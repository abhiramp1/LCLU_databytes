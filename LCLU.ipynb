{
  "nbformat": 4,
  "nbformat_minor": 0,
  "metadata": {
    "colab": {
      "provenance": [],
      "authorship_tag": "ABX9TyNswgfPSRqPu2frqpQALUgC",
      "include_colab_link": true
    },
    "kernelspec": {
      "name": "python3",
      "display_name": "Python 3"
    },
    "language_info": {
      "name": "python"
    }
  },
  "cells": [
    {
      "cell_type": "markdown",
      "metadata": {
        "id": "view-in-github",
        "colab_type": "text"
      },
      "source": [
        "<a href=\"https://colab.research.google.com/github/abhiramp1/LCLU_databytes/blob/main/LCLU.ipynb\" target=\"_parent\"><img src=\"https://colab.research.google.com/assets/colab-badge.svg\" alt=\"Open In Colab\"/></a>"
      ]
    },
    {
      "cell_type": "code",
      "execution_count": 1,
      "metadata": {
        "id": "I5kqzn1PDuTg",
        "colab": {
          "base_uri": "https://localhost:8080/"
        },
        "outputId": "02596047-54cf-4cad-96ce-e01fdc296eb8"
      },
      "outputs": [
        {
          "output_type": "stream",
          "name": "stdout",
          "text": [
            "Drive already mounted at /drive; to attempt to forcibly remount, call drive.mount(\"/drive\", force_remount=True).\n"
          ]
        }
      ],
      "source": [
        "from google.colab import drive\n",
        "drive.mount('/drive')"
      ]
    },
    {
      "cell_type": "code",
      "source": [
        "import os"
      ],
      "metadata": {
        "id": "klk0a0n7KWTx"
      },
      "execution_count": 5,
      "outputs": []
    },
    {
      "cell_type": "code",
      "source": [
        "#read the required files\n",
        "images_path =  '/drive/My Drive/Colab Notebooks/data'\n",
        "shape_path = '/drive/My Drive/Colab Notebooks/data/Payne_county'"
      ],
      "metadata": {
        "id": "VCfGa_TiJATq"
      },
      "execution_count": 11,
      "outputs": []
    },
    {
      "cell_type": "code",
      "source": [
        "os.chdir(shape_path)"
      ],
      "metadata": {
        "id": "W3OY4TQRKQrb"
      },
      "execution_count": 12,
      "outputs": []
    },
    {
      "cell_type": "code",
      "source": [
        "os.listdir()"
      ],
      "metadata": {
        "id": "7Y6ZZ9QHKUkh",
        "outputId": "2a6005fe-519a-47e7-8c1b-50ccc382ecdc",
        "colab": {
          "base_uri": "https://localhost:8080/"
        }
      },
      "execution_count": 13,
      "outputs": [
        {
          "output_type": "execute_result",
          "data": {
            "text/plain": [
              "['payne.shx', 'payne.prj', 'payne.shp', 'payne.dbf', 'payne.qmd', 'payne.cpg']"
            ]
          },
          "metadata": {},
          "execution_count": 13
        }
      ]
    },
    {
      "cell_type": "code",
      "source": [],
      "metadata": {
        "id": "ApZeuWkUKfOS"
      },
      "execution_count": null,
      "outputs": []
    }
  ]
}